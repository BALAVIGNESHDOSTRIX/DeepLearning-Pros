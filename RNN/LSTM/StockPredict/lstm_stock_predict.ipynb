{
  "nbformat": 4,
  "nbformat_minor": 0,
  "metadata": {
    "colab": {
      "name": "lstm_stock_predict.ipynb",
      "provenance": [],
      "collapsed_sections": []
    },
    "kernelspec": {
      "name": "python3",
      "display_name": "Python 3"
    },
    "accelerator": "GPU"
  },
  "cells": [
    {
      "cell_type": "code",
      "metadata": {
        "id": "EQs2kJGCly_H",
        "colab_type": "code",
        "colab": {
          "base_uri": "https://localhost:8080/",
          "height": 326
        },
        "outputId": "7165b858-dded-433b-b566-dc3c325a8755"
      },
      "source": [
        "''' \n",
        "    @author: BALAVIGNESH M\n",
        "\n",
        "    DATE: 27/07/2020\n",
        "\n",
        "    Code Scope:\n",
        "      To Predict the Stock Market and Forecasting for 30 days by using Stacked LSTM\n",
        "'''\n",
        "\n",
        "\n",
        "# Import Packages\n",
        "import numpy as np\n",
        "import pandas as pd\n",
        "import matplotlib.pyplot as plt\n",
        "import seaborn as sns \n",
        "sns.set()\n",
        "%matplotlib inline \n",
        "\n",
        "dataFrame = pd.read_csv('apple_stock.csv')\n",
        "dataFrame.head(5)"
      ],
      "execution_count": 2,
      "outputs": [
        {
          "output_type": "execute_result",
          "data": {
            "text/html": [
              "<div>\n",
              "<style scoped>\n",
              "    .dataframe tbody tr th:only-of-type {\n",
              "        vertical-align: middle;\n",
              "    }\n",
              "\n",
              "    .dataframe tbody tr th {\n",
              "        vertical-align: top;\n",
              "    }\n",
              "\n",
              "    .dataframe thead th {\n",
              "        text-align: right;\n",
              "    }\n",
              "</style>\n",
              "<table border=\"1\" class=\"dataframe\">\n",
              "  <thead>\n",
              "    <tr style=\"text-align: right;\">\n",
              "      <th></th>\n",
              "      <th>Unnamed: 0</th>\n",
              "      <th>symbol</th>\n",
              "      <th>date</th>\n",
              "      <th>close</th>\n",
              "      <th>high</th>\n",
              "      <th>low</th>\n",
              "      <th>open</th>\n",
              "      <th>volume</th>\n",
              "      <th>adjClose</th>\n",
              "      <th>adjHigh</th>\n",
              "      <th>adjLow</th>\n",
              "      <th>adjOpen</th>\n",
              "      <th>adjVolume</th>\n",
              "      <th>divCash</th>\n",
              "      <th>splitFactor</th>\n",
              "    </tr>\n",
              "  </thead>\n",
              "  <tbody>\n",
              "    <tr>\n",
              "      <th>0</th>\n",
              "      <td>0</td>\n",
              "      <td>AAPL</td>\n",
              "      <td>2015-05-27 00:00:00+00:00</td>\n",
              "      <td>132.045</td>\n",
              "      <td>132.260</td>\n",
              "      <td>130.05</td>\n",
              "      <td>130.34</td>\n",
              "      <td>45833246</td>\n",
              "      <td>121.682558</td>\n",
              "      <td>121.880685</td>\n",
              "      <td>119.844118</td>\n",
              "      <td>120.111360</td>\n",
              "      <td>45833246</td>\n",
              "      <td>0.0</td>\n",
              "      <td>1.0</td>\n",
              "    </tr>\n",
              "    <tr>\n",
              "      <th>1</th>\n",
              "      <td>1</td>\n",
              "      <td>AAPL</td>\n",
              "      <td>2015-05-28 00:00:00+00:00</td>\n",
              "      <td>131.780</td>\n",
              "      <td>131.950</td>\n",
              "      <td>131.10</td>\n",
              "      <td>131.86</td>\n",
              "      <td>30733309</td>\n",
              "      <td>121.438354</td>\n",
              "      <td>121.595013</td>\n",
              "      <td>120.811718</td>\n",
              "      <td>121.512076</td>\n",
              "      <td>30733309</td>\n",
              "      <td>0.0</td>\n",
              "      <td>1.0</td>\n",
              "    </tr>\n",
              "    <tr>\n",
              "      <th>2</th>\n",
              "      <td>2</td>\n",
              "      <td>AAPL</td>\n",
              "      <td>2015-05-29 00:00:00+00:00</td>\n",
              "      <td>130.280</td>\n",
              "      <td>131.450</td>\n",
              "      <td>129.90</td>\n",
              "      <td>131.23</td>\n",
              "      <td>50884452</td>\n",
              "      <td>120.056069</td>\n",
              "      <td>121.134251</td>\n",
              "      <td>119.705890</td>\n",
              "      <td>120.931516</td>\n",
              "      <td>50884452</td>\n",
              "      <td>0.0</td>\n",
              "      <td>1.0</td>\n",
              "    </tr>\n",
              "    <tr>\n",
              "      <th>3</th>\n",
              "      <td>3</td>\n",
              "      <td>AAPL</td>\n",
              "      <td>2015-06-01 00:00:00+00:00</td>\n",
              "      <td>130.535</td>\n",
              "      <td>131.390</td>\n",
              "      <td>130.05</td>\n",
              "      <td>131.20</td>\n",
              "      <td>32112797</td>\n",
              "      <td>120.291057</td>\n",
              "      <td>121.078960</td>\n",
              "      <td>119.844118</td>\n",
              "      <td>120.903870</td>\n",
              "      <td>32112797</td>\n",
              "      <td>0.0</td>\n",
              "      <td>1.0</td>\n",
              "    </tr>\n",
              "    <tr>\n",
              "      <th>4</th>\n",
              "      <td>4</td>\n",
              "      <td>AAPL</td>\n",
              "      <td>2015-06-02 00:00:00+00:00</td>\n",
              "      <td>129.960</td>\n",
              "      <td>130.655</td>\n",
              "      <td>129.32</td>\n",
              "      <td>129.86</td>\n",
              "      <td>33667627</td>\n",
              "      <td>119.761181</td>\n",
              "      <td>120.401640</td>\n",
              "      <td>119.171406</td>\n",
              "      <td>119.669029</td>\n",
              "      <td>33667627</td>\n",
              "      <td>0.0</td>\n",
              "      <td>1.0</td>\n",
              "    </tr>\n",
              "  </tbody>\n",
              "</table>\n",
              "</div>"
            ],
            "text/plain": [
              "   Unnamed: 0 symbol  ... divCash  splitFactor\n",
              "0           0   AAPL  ...     0.0          1.0\n",
              "1           1   AAPL  ...     0.0          1.0\n",
              "2           2   AAPL  ...     0.0          1.0\n",
              "3           3   AAPL  ...     0.0          1.0\n",
              "4           4   AAPL  ...     0.0          1.0\n",
              "\n",
              "[5 rows x 15 columns]"
            ]
          },
          "metadata": {
            "tags": []
          },
          "execution_count": 2
        }
      ]
    },
    {
      "cell_type": "code",
      "metadata": {
        "id": "5XKBnOVNmlmd",
        "colab_type": "code",
        "colab": {
          "base_uri": "https://localhost:8080/",
          "height": 119
        },
        "outputId": "b2f8f4d5-149c-402c-e1c9-8ecc5bc595e8"
      },
      "source": [
        "# We need to predict the pricing so now taking the closing amount for our purpose\n",
        "\n",
        "new_Dataframe = dataFrame.reset_index()['close']\n",
        "new_Dataframe.head()"
      ],
      "execution_count": 3,
      "outputs": [
        {
          "output_type": "execute_result",
          "data": {
            "text/plain": [
              "0    132.045\n",
              "1    131.780\n",
              "2    130.280\n",
              "3    130.535\n",
              "4    129.960\n",
              "Name: close, dtype: float64"
            ]
          },
          "metadata": {
            "tags": []
          },
          "execution_count": 3
        }
      ]
    },
    {
      "cell_type": "code",
      "metadata": {
        "id": "93KOlLAhnPzW",
        "colab_type": "code",
        "colab": {
          "base_uri": "https://localhost:8080/",
          "height": 285
        },
        "outputId": "a8c101eb-fa32-4c1d-a6b3-7553b1cf852c"
      },
      "source": [
        "plt.plot(new_Dataframe)"
      ],
      "execution_count": 4,
      "outputs": [
        {
          "output_type": "execute_result",
          "data": {
            "text/plain": [
              "[<matplotlib.lines.Line2D at 0x7f01773d1be0>]"
            ]
          },
          "metadata": {
            "tags": []
          },
          "execution_count": 4
        },
        {
          "output_type": "display_data",
          "data": {
            "image/png": "[encoded data removed]",
            "text/plain": [
              "<Figure size 432x288 with 1 Axes>"
            ]
          },
          "metadata": {
            "tags": [],
            "needs_background": "light"
          }
        }
      ]
    },
    {
      "cell_type": "code",
      "metadata": {
        "id": "_9E9p5GQnaSL",
        "colab_type": "code",
        "colab": {
          "base_uri": "https://localhost:8080/",
          "height": 136
        },
        "outputId": "b7c11c94-66c5-42d1-8671-51ff9537a836"
      },
      "source": [
        "# LSTM is sensitive to scale data so we need to apply the MinMax Sclar for preprocess the data\n",
        "\n",
        "from sklearn.preprocessing import MinMaxScaler\n",
        "minmaxscaler = MinMaxScaler(feature_range=(0,1)) # Here feature_range means convert the data point to range between 0 to 1\n",
        "newdataframe = minmaxscaler.fit_transform(np.array(new_Dataframe).reshape(-1,1)) # Here reshape is should be used for LSTM\n",
        "# news = pd.DataFrame(newdataframe)\n",
        "# news.head()\n",
        "print(newdataframe)"
      ],
      "execution_count": 5,
      "outputs": [
        {
          "output_type": "stream",
          "text": [
            "[[0.17607447]\n",
            " [0.17495567]\n",
            " [0.16862282]\n",
            " ...\n",
            " [0.96635143]\n",
            " [0.9563033 ]\n",
            " [0.96491598]]\n"
          ],
          "name": "stdout"
        }
      ]
    },
    {
      "cell_type": "code",
      "metadata": {
        "id": "jlB2xrdloaeV",
        "colab_type": "code",
        "colab": {}
      },
      "source": [
        "# Splitting the train and test set\n",
        "train_size = int(len(newdataframe) * 0.75)\n",
        "test_size = int(len(newdataframe) - train_size)\n",
        "traindata,testdata = newdataframe[0:train_size,],newdataframe[train_size:len(newdataframe)]"
      ],
      "execution_count": 6,
      "outputs": []
    },
    {
      "cell_type": "code",
      "metadata": {
        "id": "JcV_neW2qBLg",
        "colab_type": "code",
        "colab": {}
      },
      "source": [
        "# convert the data array to data set matrix with time step \n",
        "\n",
        "''' \n",
        "  If Time step is '4' then X contains for '0' iteration ======> 0,1,2,3 and Y will be 4\n",
        "\n",
        "  Example For following Function\n",
        "\n",
        "  '0' iteration:\n",
        "  ------------------\n",
        "    X =================> 0:0+4 => 0:4 => 0,1,2,3\n",
        "    Y =================> 0+4   => 4   => 4\n",
        "'''\n",
        "\n",
        "def MakedataSet(dataset=None, timestep=None):\n",
        "  dataX,dataY= [],[]\n",
        "  for i in range(len(dataset)-timestep-1):\n",
        "    dataX.append(dataset[i:(i+timestep), 0]) \n",
        "    dataY.append(dataset[i + timestep, 0]) \n",
        "  return np.array(dataX), np.array(dataY)"
      ],
      "execution_count": 7,
      "outputs": []
    },
    {
      "cell_type": "code",
      "metadata": {
        "id": "Lj-vLMrHv2cn",
        "colab_type": "code",
        "colab": {}
      },
      "source": [
        "# reshape into X=t,t+1,t+2,t+3 and Y=t+4\n",
        "timestep= 75\n",
        "X_train, Y_train = MakedataSet(traindata, timestep)\n",
        "x_test, y_test = MakedataSet(testdata, timestep)"
      ],
      "execution_count": 8,
      "outputs": []
    },
    {
      "cell_type": "code",
      "metadata": {
        "id": "70TH80ty9Gji",
        "colab_type": "code",
        "colab": {
          "base_uri": "https://localhost:8080/",
          "height": 68
        },
        "outputId": "0963cc1a-ab6a-46e9-c59d-77a3450a2c0a"
      },
      "source": [
        "print(X_train.shape), print(Y_train.shape)"
      ],
      "execution_count": 9,
      "outputs": [
        {
          "output_type": "stream",
          "text": [
            "(867, 75)\n",
            "(867,)\n"
          ],
          "name": "stdout"
        },
        {
          "output_type": "execute_result",
          "data": {
            "text/plain": [
              "(None, None)"
            ]
          },
          "metadata": {
            "tags": []
          },
          "execution_count": 9
        }
      ]
    },
    {
      "cell_type": "code",
      "metadata": {
        "id": "qtalUhZL9e1t",
        "colab_type": "code",
        "colab": {
          "base_uri": "https://localhost:8080/",
          "height": 68
        },
        "outputId": "66dcf0e2-c5da-4afc-da2c-6caefa126c1c"
      },
      "source": [
        "print(x_test.shape), print(y_test.shape)"
      ],
      "execution_count": 10,
      "outputs": [
        {
          "output_type": "stream",
          "text": [
            "(239, 75)\n",
            "(239,)\n"
          ],
          "name": "stdout"
        },
        {
          "output_type": "execute_result",
          "data": {
            "text/plain": [
              "(None, None)"
            ]
          },
          "metadata": {
            "tags": []
          },
          "execution_count": 10
        }
      ]
    },
    {
      "cell_type": "code",
      "metadata": {
        "id": "4oc0Jblv9mHB",
        "colab_type": "code",
        "colab": {}
      },
      "source": [
        "# reshape input to be [samples, time steps, features] which is required for LSTM\n",
        "\n",
        "X_train = X_train.reshape(X_train.shape[0], X_train.shape[1], 1)\n",
        "x_test = x_test.reshape(x_test.shape[0], x_test.shape[1], 1)"
      ],
      "execution_count": 11,
      "outputs": []
    },
    {
      "cell_type": "code",
      "metadata": {
        "id": "gyf0XMx1-DRv",
        "colab_type": "code",
        "colab": {}
      },
      "source": [
        "# Create the Staked LSTM-RNN\n",
        "\n",
        "from tensorflow.keras.models import Sequential\n",
        "from tensorflow.keras.layers import Dense, LSTM\n",
        "\n",
        "model = Sequential()\n",
        "model.add(LSTM(50, return_sequences=True, input_shape=(75,1)))\n",
        "model.add(LSTM(50, return_sequences=True))\n",
        "model.add(LSTM(50))\n",
        "model.add(Dense(1))\n",
        "model.compile(loss='mean_squared_error',optimizer='adam')"
      ],
      "execution_count": 30,
      "outputs": []
    },
    {
      "cell_type": "code",
      "metadata": {
        "id": "h_go9PEF_clB",
        "colab_type": "code",
        "colab": {
          "base_uri": "https://localhost:8080/",
          "height": 289
        },
        "outputId": "24e2a897-3c0c-4cbc-827a-f1c1b1b8a9c3"
      },
      "source": [
        "model.summary()"
      ],
      "execution_count": 31,
      "outputs": [
        {
          "output_type": "stream",
          "text": [
            "Model: \"sequential_1\"\n",
            "_________________________________________________________________\n",
            "Layer (type)                 Output Shape              Param #   \n",
            "=================================================================\n",
            "lstm_3 (LSTM)                (None, 75, 50)            10400     \n",
            "_________________________________________________________________\n",
            "lstm_4 (LSTM)                (None, 75, 50)            20200     \n",
            "_________________________________________________________________\n",
            "lstm_5 (LSTM)                (None, 50)                20200     \n",
            "_________________________________________________________________\n",
            "dense_1 (Dense)              (None, 1)                 51        \n",
            "=================================================================\n",
            "Total params: 50,851\n",
            "Trainable params: 50,851\n",
            "Non-trainable params: 0\n",
            "_________________________________________________________________\n"
          ],
          "name": "stdout"
        }
      ]
    },
    {
      "cell_type": "code",
      "metadata": {
        "id": "oIWmUOPF_hEh",
        "colab_type": "code",
        "colab": {
          "base_uri": "https://localhost:8080/",
          "height": 1000
        },
        "outputId": "66ad3654-ba4d-46e8-da5a-6f1dc31bfb39"
      },
      "source": [
        "model.fit(X_train,Y_train,validation_data=(x_test,y_test),epochs=140,batch_size=60,verbose=1)"
      ],
      "execution_count": 32,
      "outputs": [
        {
          "output_type": "stream",
          "text": [
            "Epoch 1/140\n",
            "15/15 [==============================] - 1s 68ms/step - loss: 0.0218 - val_loss: 0.0856\n",
            "Epoch 2/140\n",
            "15/15 [==============================] - 0s 17ms/step - loss: 0.0032 - val_loss: 0.0178\n",
            "Epoch 3/140\n",
            "15/15 [==============================] - 0s 16ms/step - loss: 0.0012 - val_loss: 0.0058\n",
            "Epoch 4/140\n",
            "15/15 [==============================] - 0s 14ms/step - loss: 9.8988e-04 - val_loss: 0.0090\n",
            "Epoch 5/140\n",
            "15/15 [==============================] - 0s 14ms/step - loss: 9.3018e-04 - val_loss: 0.0097\n",
            "Epoch 6/140\n",
            "15/15 [==============================] - 0s 14ms/step - loss: 8.9687e-04 - val_loss: 0.0075\n",
            "Epoch 7/140\n",
            "15/15 [==============================] - 0s 13ms/step - loss: 8.2898e-04 - val_loss: 0.0056\n",
            "Epoch 8/140\n",
            "15/15 [==============================] - 0s 14ms/step - loss: 7.9309e-04 - val_loss: 0.0077\n",
            "Epoch 9/140\n",
            "15/15 [==============================] - 0s 14ms/step - loss: 7.3794e-04 - val_loss: 0.0062\n",
            "Epoch 10/140\n",
            "15/15 [==============================] - 0s 14ms/step - loss: 6.6034e-04 - val_loss: 0.0065\n",
            "Epoch 11/140\n",
            "15/15 [==============================] - 0s 13ms/step - loss: 6.0721e-04 - val_loss: 0.0046\n",
            "Epoch 12/140\n",
            "15/15 [==============================] - 0s 14ms/step - loss: 5.8150e-04 - val_loss: 0.0048\n",
            "Epoch 13/140\n",
            "15/15 [==============================] - 0s 14ms/step - loss: 6.1563e-04 - val_loss: 0.0103\n",
            "Epoch 14/140\n",
            "15/15 [==============================] - 0s 14ms/step - loss: 6.2225e-04 - val_loss: 0.0058\n",
            "Epoch 15/140\n",
            "15/15 [==============================] - 0s 13ms/step - loss: 5.4804e-04 - val_loss: 0.0029\n",
            "Epoch 16/140\n",
            "15/15 [==============================] - 0s 14ms/step - loss: 5.3566e-04 - val_loss: 0.0033\n",
            "Epoch 17/140\n",
            "15/15 [==============================] - 0s 14ms/step - loss: 5.4077e-04 - val_loss: 0.0043\n",
            "Epoch 18/140\n",
            "15/15 [==============================] - 0s 14ms/step - loss: 5.2967e-04 - val_loss: 0.0038\n",
            "Epoch 19/140\n",
            "15/15 [==============================] - 0s 15ms/step - loss: 5.0768e-04 - val_loss: 0.0025\n",
            "Epoch 20/140\n",
            "15/15 [==============================] - 0s 13ms/step - loss: 5.5105e-04 - val_loss: 0.0024\n",
            "Epoch 21/140\n",
            "15/15 [==============================] - 0s 14ms/step - loss: 5.0936e-04 - val_loss: 0.0054\n",
            "Epoch 22/140\n",
            "15/15 [==============================] - 0s 15ms/step - loss: 5.1154e-04 - val_loss: 0.0027\n",
            "Epoch 23/140\n",
            "15/15 [==============================] - 0s 15ms/step - loss: 4.8772e-04 - val_loss: 0.0024\n",
            "Epoch 24/140\n",
            "15/15 [==============================] - 0s 13ms/step - loss: 4.9757e-04 - val_loss: 0.0024\n",
            "Epoch 25/140\n",
            "15/15 [==============================] - 0s 14ms/step - loss: 4.7894e-04 - val_loss: 0.0026\n",
            "Epoch 26/140\n",
            "15/15 [==============================] - 0s 14ms/step - loss: 4.6805e-04 - val_loss: 0.0024\n",
            "Epoch 27/140\n",
            "15/15 [==============================] - 0s 15ms/step - loss: 4.4396e-04 - val_loss: 0.0027\n",
            "Epoch 28/140\n",
            "15/15 [==============================] - 0s 14ms/step - loss: 4.3557e-04 - val_loss: 0.0029\n",
            "Epoch 29/140\n",
            "15/15 [==============================] - 0s 13ms/step - loss: 5.0348e-04 - val_loss: 0.0027\n",
            "Epoch 30/140\n",
            "15/15 [==============================] - 0s 14ms/step - loss: 4.3271e-04 - val_loss: 0.0040\n",
            "Epoch 31/140\n",
            "15/15 [==============================] - 0s 13ms/step - loss: 4.4708e-04 - val_loss: 0.0026\n",
            "Epoch 32/140\n",
            "15/15 [==============================] - 0s 14ms/step - loss: 4.4480e-04 - val_loss: 0.0031\n",
            "Epoch 33/140\n",
            "15/15 [==============================] - 0s 16ms/step - loss: 4.1295e-04 - val_loss: 0.0026\n",
            "Epoch 34/140\n",
            "15/15 [==============================] - 0s 16ms/step - loss: 4.4165e-04 - val_loss: 0.0029\n",
            "Epoch 35/140\n",
            "15/15 [==============================] - 0s 16ms/step - loss: 4.0937e-04 - val_loss: 0.0022\n",
            "Epoch 36/140\n",
            "15/15 [==============================] - 0s 16ms/step - loss: 4.0705e-04 - val_loss: 0.0028\n",
            "Epoch 37/140\n",
            "15/15 [==============================] - 0s 13ms/step - loss: 3.9565e-04 - val_loss: 0.0023\n",
            "Epoch 38/140\n",
            "15/15 [==============================] - 0s 14ms/step - loss: 3.8834e-04 - val_loss: 0.0032\n",
            "Epoch 39/140\n",
            "15/15 [==============================] - 0s 13ms/step - loss: 3.9447e-04 - val_loss: 0.0025\n",
            "Epoch 40/140\n",
            "15/15 [==============================] - 0s 13ms/step - loss: 4.0767e-04 - val_loss: 0.0027\n",
            "Epoch 41/140\n",
            "15/15 [==============================] - 0s 15ms/step - loss: 3.9689e-04 - val_loss: 0.0026\n",
            "Epoch 42/140\n",
            "15/15 [==============================] - 0s 13ms/step - loss: 4.0474e-04 - val_loss: 0.0024\n",
            "Epoch 43/140\n",
            "15/15 [==============================] - 0s 15ms/step - loss: 4.1252e-04 - val_loss: 0.0023\n",
            "Epoch 44/140\n",
            "15/15 [==============================] - 0s 14ms/step - loss: 3.6857e-04 - val_loss: 0.0035\n",
            "Epoch 45/140\n",
            "15/15 [==============================] - 0s 15ms/step - loss: 4.3953e-04 - val_loss: 0.0028\n",
            "Epoch 46/140\n",
            "15/15 [==============================] - 0s 13ms/step - loss: 4.5364e-04 - val_loss: 0.0021\n",
            "Epoch 47/140\n",
            "15/15 [==============================] - 0s 13ms/step - loss: 3.4884e-04 - val_loss: 0.0018\n",
            "Epoch 48/140\n",
            "15/15 [==============================] - 0s 14ms/step - loss: 3.5006e-04 - val_loss: 0.0018\n",
            "Epoch 49/140\n",
            "15/15 [==============================] - 0s 14ms/step - loss: 3.3047e-04 - val_loss: 0.0018\n",
            "Epoch 50/140\n",
            "15/15 [==============================] - 0s 14ms/step - loss: 3.5627e-04 - val_loss: 0.0036\n",
            "Epoch 51/140\n",
            "15/15 [==============================] - 0s 13ms/step - loss: 3.7238e-04 - val_loss: 0.0019\n",
            "Epoch 52/140\n",
            "15/15 [==============================] - 0s 14ms/step - loss: 3.3307e-04 - val_loss: 0.0028\n",
            "Epoch 53/140\n",
            "15/15 [==============================] - 0s 14ms/step - loss: 3.3906e-04 - val_loss: 0.0021\n",
            "Epoch 54/140\n",
            "15/15 [==============================] - 0s 14ms/step - loss: 3.1454e-04 - val_loss: 0.0017\n",
            "Epoch 55/140\n",
            "15/15 [==============================] - 0s 13ms/step - loss: 2.9710e-04 - val_loss: 0.0019\n",
            "Epoch 56/140\n",
            "15/15 [==============================] - 0s 14ms/step - loss: 3.3319e-04 - val_loss: 0.0019\n",
            "Epoch 57/140\n",
            "15/15 [==============================] - 0s 14ms/step - loss: 3.0689e-04 - val_loss: 0.0021\n",
            "Epoch 58/140\n",
            "15/15 [==============================] - 0s 14ms/step - loss: 2.7672e-04 - val_loss: 0.0018\n",
            "Epoch 59/140\n",
            "15/15 [==============================] - 0s 14ms/step - loss: 2.9654e-04 - val_loss: 0.0023\n",
            "Epoch 60/140\n",
            "15/15 [==============================] - 0s 13ms/step - loss: 2.7426e-04 - val_loss: 0.0018\n",
            "Epoch 61/140\n",
            "15/15 [==============================] - 0s 13ms/step - loss: 3.0769e-04 - val_loss: 0.0022\n",
            "Epoch 62/140\n",
            "15/15 [==============================] - 0s 14ms/step - loss: 3.1652e-04 - val_loss: 0.0028\n",
            "Epoch 63/140\n",
            "15/15 [==============================] - 0s 14ms/step - loss: 2.7502e-04 - val_loss: 0.0025\n",
            "Epoch 64/140\n",
            "15/15 [==============================] - 0s 14ms/step - loss: 2.7762e-04 - val_loss: 0.0020\n",
            "Epoch 65/140\n",
            "15/15 [==============================] - 0s 14ms/step - loss: 2.7562e-04 - val_loss: 0.0033\n",
            "Epoch 66/140\n",
            "15/15 [==============================] - 0s 14ms/step - loss: 2.7484e-04 - val_loss: 0.0016\n",
            "Epoch 67/140\n",
            "15/15 [==============================] - 0s 13ms/step - loss: 2.8135e-04 - val_loss: 0.0017\n",
            "Epoch 68/140\n",
            "15/15 [==============================] - 0s 14ms/step - loss: 2.6450e-04 - val_loss: 0.0018\n",
            "Epoch 69/140\n",
            "15/15 [==============================] - 0s 15ms/step - loss: 2.4905e-04 - val_loss: 0.0018\n",
            "Epoch 70/140\n",
            "15/15 [==============================] - 0s 13ms/step - loss: 2.4132e-04 - val_loss: 0.0020\n",
            "Epoch 71/140\n",
            "15/15 [==============================] - 0s 14ms/step - loss: 2.5511e-04 - val_loss: 0.0020\n",
            "Epoch 72/140\n",
            "15/15 [==============================] - 0s 15ms/step - loss: 2.4372e-04 - val_loss: 0.0016\n",
            "Epoch 73/140\n",
            "15/15 [==============================] - 0s 15ms/step - loss: 2.3065e-04 - val_loss: 0.0015\n",
            "Epoch 74/140\n",
            "15/15 [==============================] - 0s 13ms/step - loss: 2.2861e-04 - val_loss: 0.0014\n",
            "Epoch 75/140\n",
            "15/15 [==============================] - 0s 14ms/step - loss: 2.3538e-04 - val_loss: 0.0014\n",
            "Epoch 76/140\n",
            "15/15 [==============================] - 0s 14ms/step - loss: 3.0476e-04 - val_loss: 0.0018\n",
            "Epoch 77/140\n",
            "15/15 [==============================] - 0s 14ms/step - loss: 2.7838e-04 - val_loss: 0.0017\n",
            "Epoch 78/140\n",
            "15/15 [==============================] - 0s 14ms/step - loss: 2.2905e-04 - val_loss: 0.0013\n",
            "Epoch 79/140\n",
            "15/15 [==============================] - 0s 13ms/step - loss: 2.2048e-04 - val_loss: 0.0013\n",
            "Epoch 80/140\n",
            "15/15 [==============================] - 0s 14ms/step - loss: 2.2345e-04 - val_loss: 0.0013\n",
            "Epoch 81/140\n",
            "15/15 [==============================] - 0s 16ms/step - loss: 2.6769e-04 - val_loss: 0.0012\n",
            "Epoch 82/140\n",
            "15/15 [==============================] - 0s 14ms/step - loss: 2.5367e-04 - val_loss: 0.0013\n",
            "Epoch 83/140\n",
            "15/15 [==============================] - 0s 13ms/step - loss: 2.4533e-04 - val_loss: 0.0012\n",
            "Epoch 84/140\n",
            "15/15 [==============================] - 0s 14ms/step - loss: 2.4015e-04 - val_loss: 0.0016\n",
            "Epoch 85/140\n",
            "15/15 [==============================] - 0s 15ms/step - loss: 2.3106e-04 - val_loss: 0.0012\n",
            "Epoch 86/140\n",
            "15/15 [==============================] - 0s 16ms/step - loss: 2.2217e-04 - val_loss: 0.0011\n",
            "Epoch 87/140\n",
            "15/15 [==============================] - 0s 16ms/step - loss: 2.1288e-04 - val_loss: 0.0011\n",
            "Epoch 88/140\n",
            "15/15 [==============================] - 0s 14ms/step - loss: 2.3371e-04 - val_loss: 0.0013\n",
            "Epoch 89/140\n",
            "15/15 [==============================] - 0s 14ms/step - loss: 2.6928e-04 - val_loss: 0.0011\n",
            "Epoch 90/140\n",
            "15/15 [==============================] - 0s 14ms/step - loss: 2.1173e-04 - val_loss: 0.0012\n",
            "Epoch 91/140\n",
            "15/15 [==============================] - 0s 14ms/step - loss: 2.1154e-04 - val_loss: 0.0011\n",
            "Epoch 92/140\n",
            "15/15 [==============================] - 0s 13ms/step - loss: 2.4559e-04 - val_loss: 0.0011\n",
            "Epoch 93/140\n",
            "15/15 [==============================] - 0s 14ms/step - loss: 2.6704e-04 - val_loss: 0.0011\n",
            "Epoch 94/140\n",
            "15/15 [==============================] - 0s 14ms/step - loss: 2.0966e-04 - val_loss: 0.0010\n",
            "Epoch 95/140\n",
            "15/15 [==============================] - 0s 14ms/step - loss: 2.1352e-04 - val_loss: 9.9686e-04\n",
            "Epoch 96/140\n",
            "15/15 [==============================] - 0s 13ms/step - loss: 2.0960e-04 - val_loss: 9.7793e-04\n",
            "Epoch 97/140\n",
            "15/15 [==============================] - 0s 14ms/step - loss: 2.0323e-04 - val_loss: 9.7153e-04\n",
            "Epoch 98/140\n",
            "15/15 [==============================] - 0s 13ms/step - loss: 1.9628e-04 - val_loss: 9.5514e-04\n",
            "Epoch 99/140\n",
            "15/15 [==============================] - 0s 13ms/step - loss: 1.9171e-04 - val_loss: 0.0022\n",
            "Epoch 100/140\n",
            "15/15 [==============================] - 0s 14ms/step - loss: 2.1098e-04 - val_loss: 0.0013\n",
            "Epoch 101/140\n",
            "15/15 [==============================] - 0s 13ms/step - loss: 2.0220e-04 - val_loss: 9.9360e-04\n",
            "Epoch 102/140\n",
            "15/15 [==============================] - 0s 14ms/step - loss: 1.8437e-04 - val_loss: 0.0010\n",
            "Epoch 103/140\n",
            "15/15 [==============================] - 0s 14ms/step - loss: 2.0279e-04 - val_loss: 9.2131e-04\n",
            "Epoch 104/140\n",
            "15/15 [==============================] - 0s 14ms/step - loss: 2.1541e-04 - val_loss: 0.0011\n",
            "Epoch 105/140\n",
            "15/15 [==============================] - 0s 14ms/step - loss: 1.8932e-04 - val_loss: 9.2723e-04\n",
            "Epoch 106/140\n",
            "15/15 [==============================] - 0s 13ms/step - loss: 1.8137e-04 - val_loss: 0.0010\n",
            "Epoch 107/140\n",
            "15/15 [==============================] - 0s 15ms/step - loss: 1.8852e-04 - val_loss: 0.0021\n",
            "Epoch 108/140\n",
            "15/15 [==============================] - 0s 13ms/step - loss: 2.1073e-04 - val_loss: 0.0010\n",
            "Epoch 109/140\n",
            "15/15 [==============================] - 0s 14ms/step - loss: 1.8096e-04 - val_loss: 9.6226e-04\n",
            "Epoch 110/140\n",
            "15/15 [==============================] - 0s 14ms/step - loss: 1.7437e-04 - val_loss: 8.7937e-04\n",
            "Epoch 111/140\n",
            "15/15 [==============================] - 0s 14ms/step - loss: 1.7197e-04 - val_loss: 0.0010\n",
            "Epoch 112/140\n",
            "15/15 [==============================] - 0s 14ms/step - loss: 1.8018e-04 - val_loss: 0.0011\n",
            "Epoch 113/140\n",
            "15/15 [==============================] - 0s 14ms/step - loss: 1.7110e-04 - val_loss: 9.2181e-04\n",
            "Epoch 114/140\n",
            "15/15 [==============================] - 0s 14ms/step - loss: 1.7742e-04 - val_loss: 9.2320e-04\n",
            "Epoch 115/140\n",
            "15/15 [==============================] - 0s 14ms/step - loss: 2.2117e-04 - val_loss: 8.8728e-04\n",
            "Epoch 116/140\n",
            "15/15 [==============================] - 0s 14ms/step - loss: 1.7405e-04 - val_loss: 0.0011\n",
            "Epoch 117/140\n",
            "15/15 [==============================] - 0s 15ms/step - loss: 1.7964e-04 - val_loss: 9.0236e-04\n",
            "Epoch 118/140\n",
            "15/15 [==============================] - 0s 17ms/step - loss: 1.6048e-04 - val_loss: 9.1204e-04\n",
            "Epoch 119/140\n",
            "15/15 [==============================] - 0s 25ms/step - loss: 1.6256e-04 - val_loss: 8.6778e-04\n",
            "Epoch 120/140\n",
            "15/15 [==============================] - 0s 14ms/step - loss: 1.6540e-04 - val_loss: 0.0011\n",
            "Epoch 121/140\n",
            "15/15 [==============================] - 0s 13ms/step - loss: 1.7059e-04 - val_loss: 8.6895e-04\n",
            "Epoch 122/140\n",
            "15/15 [==============================] - 0s 13ms/step - loss: 1.6184e-04 - val_loss: 8.4973e-04\n",
            "Epoch 123/140\n",
            "15/15 [==============================] - 0s 13ms/step - loss: 1.5914e-04 - val_loss: 8.5728e-04\n",
            "Epoch 124/140\n",
            "15/15 [==============================] - 0s 15ms/step - loss: 1.6390e-04 - val_loss: 8.5657e-04\n",
            "Epoch 125/140\n",
            "15/15 [==============================] - 0s 14ms/step - loss: 1.6144e-04 - val_loss: 9.6899e-04\n",
            "Epoch 126/140\n",
            "15/15 [==============================] - 0s 15ms/step - loss: 1.5041e-04 - val_loss: 8.9700e-04\n",
            "Epoch 127/140\n",
            "15/15 [==============================] - 0s 13ms/step - loss: 1.5822e-04 - val_loss: 0.0014\n",
            "Epoch 128/140\n",
            "15/15 [==============================] - 0s 14ms/step - loss: 1.6653e-04 - val_loss: 0.0010\n",
            "Epoch 129/140\n",
            "15/15 [==============================] - 0s 14ms/step - loss: 1.7410e-04 - val_loss: 8.7770e-04\n",
            "Epoch 130/140\n",
            "15/15 [==============================] - 0s 14ms/step - loss: 1.6965e-04 - val_loss: 9.4431e-04\n",
            "Epoch 131/140\n",
            "15/15 [==============================] - 0s 14ms/step - loss: 1.4195e-04 - val_loss: 8.5027e-04\n",
            "Epoch 132/140\n",
            "15/15 [==============================] - 0s 14ms/step - loss: 1.3751e-04 - val_loss: 9.1423e-04\n",
            "Epoch 133/140\n",
            "15/15 [==============================] - 0s 14ms/step - loss: 1.5080e-04 - val_loss: 8.8733e-04\n",
            "Epoch 134/140\n",
            "15/15 [==============================] - 0s 15ms/step - loss: 1.5818e-04 - val_loss: 0.0013\n",
            "Epoch 135/140\n",
            "15/15 [==============================] - 0s 16ms/step - loss: 1.5099e-04 - val_loss: 0.0011\n",
            "Epoch 136/140\n",
            "15/15 [==============================] - 0s 14ms/step - loss: 1.6253e-04 - val_loss: 0.0015\n",
            "Epoch 137/140\n",
            "15/15 [==============================] - 0s 14ms/step - loss: 1.4085e-04 - val_loss: 0.0010\n",
            "Epoch 138/140\n",
            "15/15 [==============================] - 0s 14ms/step - loss: 1.4044e-04 - val_loss: 9.2778e-04\n",
            "Epoch 139/140\n",
            "15/15 [==============================] - 0s 14ms/step - loss: 1.3144e-04 - val_loss: 9.8325e-04\n",
            "Epoch 140/140\n",
            "15/15 [==============================] - 0s 14ms/step - loss: 1.3528e-04 - val_loss: 9.7396e-04\n"
          ],
          "name": "stdout"
        },
        {
          "output_type": "execute_result",
          "data": {
            "text/plain": [
              "<tensorflow.python.keras.callbacks.History at 0x7f00c945c390>"
            ]
          },
          "metadata": {
            "tags": []
          },
          "execution_count": 32
        }
      ]
    },
    {
      "cell_type": "code",
      "metadata": {
        "id": "d6yKAZGO_1jd",
        "colab_type": "code",
        "colab": {}
      },
      "source": [
        "# Let's Do the Prediction\n",
        "train_predict = model.predict(X_train)\n",
        "test_predict = model.predict(x_test)"
      ],
      "execution_count": 33,
      "outputs": []
    },
    {
      "cell_type": "code",
      "metadata": {
        "id": "8wJ3bXQxBUA2",
        "colab_type": "code",
        "colab": {}
      },
      "source": [
        "#Transformback to original form\n",
        "train_predict=minmaxscaler.inverse_transform(train_predict)\n",
        "test_predict=minmaxscaler.inverse_transform(test_predict)"
      ],
      "execution_count": 34,
      "outputs": []
    },
    {
      "cell_type": "code",
      "metadata": {
        "id": "GKqA9FAeBYBs",
        "colab_type": "code",
        "colab": {
          "base_uri": "https://localhost:8080/",
          "height": 34
        },
        "outputId": "1f845975-1e9b-4ba3-90b4-1bf0c33ecc30"
      },
      "source": [
        "# Calculate the RMSE for train data\n",
        "import math\n",
        "from sklearn.metrics import mean_squared_error\n",
        "math.sqrt(mean_squared_error(Y_train,train_predict))"
      ],
      "execution_count": 35,
      "outputs": [
        {
          "output_type": "execute_result",
          "data": {
            "text/plain": [
              "149.65837909883703"
            ]
          },
          "metadata": {
            "tags": []
          },
          "execution_count": 35
        }
      ]
    },
    {
      "cell_type": "code",
      "metadata": {
        "id": "7I7OX92HBv2D",
        "colab_type": "code",
        "colab": {
          "base_uri": "https://localhost:8080/",
          "height": 34
        },
        "outputId": "c48ded54-14df-43c4-b983-34c24968212d"
      },
      "source": [
        "# Test Data RMSE\n",
        "math.sqrt(mean_squared_error(y_test,test_predict))"
      ],
      "execution_count": 36,
      "outputs": [
        {
          "output_type": "execute_result",
          "data": {
            "text/plain": [
              "255.34639904684641"
            ]
          },
          "metadata": {
            "tags": []
          },
          "execution_count": 36
        }
      ]
    },
    {
      "cell_type": "code",
      "metadata": {
        "id": "2b_1PCXKwpT8",
        "colab_type": "code",
        "colab": {
          "base_uri": "https://localhost:8080/",
          "height": 34
        },
        "outputId": "71d6ea6d-c58e-4d3a-bf1a-08c72882f9f3"
      },
      "source": [
        "train_predict.shape"
      ],
      "execution_count": 37,
      "outputs": [
        {
          "output_type": "execute_result",
          "data": {
            "text/plain": [
              "(867, 1)"
            ]
          },
          "metadata": {
            "tags": []
          },
          "execution_count": 37
        }
      ]
    },
    {
      "cell_type": "code",
      "metadata": {
        "id": "crGIA2D2B3j2",
        "colab_type": "code",
        "colab": {
          "base_uri": "https://localhost:8080/",
          "height": 268
        },
        "outputId": "d0285d90-78d1-4081-dd0f-ad4ee07bb765"
      },
      "source": [
        "# ## Plotting \n",
        "# shift train predictions for plotting\n",
        "look_back=75\n",
        "trainPredictPlot = np.empty_like(newdataframe)\n",
        "trainPredictPlot[:, :] = np.nan\n",
        "trainPredictPlot[look_back:len(train_predict)+look_back, :] = train_predict\n",
        "# shift test predictions for plotting\n",
        "testPredictPlot = np.empty_like(newdataframe)\n",
        "testPredictPlot[:, :] = np.nan\n",
        "testPredictPlot[len(train_predict)+(look_back*2)+1:len(newdataframe)-1, :] = test_predict\n",
        "# plot baseline and predictions\n",
        "plt.plot(minmaxscaler.inverse_transform(newdataframe))\n",
        "plt.plot(trainPredictPlot)\n",
        "plt.plot(testPredictPlot)\n",
        "plt.show()"
      ],
      "execution_count": 38,
      "outputs": [
        {
          "output_type": "display_data",
          "data": {
            "image/png": "[encoded data removed]",
            "text/plain": [
              "<Figure size 432x288 with 1 Axes>"
            ]
          },
          "metadata": {
            "tags": [],
            "needs_background": "light"
          }
        }
      ]
    },
    {
      "cell_type": "code",
      "metadata": {
        "id": "i0VGH5VvCYVB",
        "colab_type": "code",
        "colab": {
          "base_uri": "https://localhost:8080/",
          "height": 34
        },
        "outputId": "60b6dd6d-22a8-46d5-8ae1-5fd0b53612ba"
      },
      "source": [
        "len(testdata)"
      ],
      "execution_count": 47,
      "outputs": [
        {
          "output_type": "execute_result",
          "data": {
            "text/plain": [
              "315"
            ]
          },
          "metadata": {
            "tags": []
          },
          "execution_count": 47
        }
      ]
    },
    {
      "cell_type": "code",
      "metadata": {
        "id": "MKGIshGOxYOl",
        "colab_type": "code",
        "colab": {
          "base_uri": "https://localhost:8080/",
          "height": 34
        },
        "outputId": "d71bc39c-e826-4ee4-df29-6ecf1a00e396"
      },
      "source": [
        "# Take the last 75 days data to predict\n",
        "\n",
        "\n",
        "x_input=testdata[240:].reshape(1,-1)\n",
        "x_input.shape"
      ],
      "execution_count": 48,
      "outputs": [
        {
          "output_type": "execute_result",
          "data": {
            "text/plain": [
              "(1, 75)"
            ]
          },
          "metadata": {
            "tags": []
          },
          "execution_count": 48
        }
      ]
    },
    {
      "cell_type": "code",
      "metadata": {
        "id": "Md2cmum-x6rR",
        "colab_type": "code",
        "colab": {
          "base_uri": "https://localhost:8080/",
          "height": 1000
        },
        "outputId": "f430f177-97a0-4c6c-9720-ecce350dc1c2"
      },
      "source": [
        "temp_input=list(x_input)\n",
        "temp_input=temp_input[0].tolist()\n",
        "temp_input"
      ],
      "execution_count": 49,
      "outputs": [
        {
          "output_type": "execute_result",
          "data": {
            "text/plain": [
              "[0.9915984125643842,\n",
              " 0.9697289538123788,\n",
              " 0.9761462467280253,\n",
              " 0.9679557544541082,\n",
              " 1.0000000000000002,\n",
              " 0.9901629654648318,\n",
              " 0.9905007177235499,\n",
              " 0.9653803934813816,\n",
              " 0.9848855864223593,\n",
              " 0.9708688676855528,\n",
              " 0.9402600692392133,\n",
              " 0.8774803681499621,\n",
              " 0.8348391454867856,\n",
              " 0.8541332432660644,\n",
              " 0.7733682344000676,\n",
              " 0.7726927298826314,\n",
              " 0.8801401671873683,\n",
              " 0.8400743054969182,\n",
              " 0.8967322468969012,\n",
              " 0.8552731571392387,\n",
              " 0.8388499535590646,\n",
              " 0.7423372456303303,\n",
              " 0.8232711306256861,\n",
              " 0.7814320695769654,\n",
              " 0.6665963016127672,\n",
              " 0.7921557037912694,\n",
              " 0.6411804441442204,\n",
              " 0.6861437135860848,\n",
              " 0.6600101325677616,\n",
              " 0.6520307354555435,\n",
              " 0.5864223591995272,\n",
              " 0.5658616904500551,\n",
              " 0.660896732246897,\n",
              " 0.6551549438486872,\n",
              " 0.7097019336316812,\n",
              " 0.664527569028118,\n",
              " 0.6943764248923416,\n",
              " 0.692181035210673,\n",
              " 0.6356919699400492,\n",
              " 0.6526640209406402,\n",
              " 0.637802921557038,\n",
              " 0.7267162036646122,\n",
              " 0.7138816178333194,\n",
              " 0.7419150553069325,\n",
              " 0.7500211095161702,\n",
              " 0.7722283205268936,\n",
              " 0.8304905851557884,\n",
              " 0.8194291986827664,\n",
              " 0.8289706999915563,\n",
              " 0.8125474964113824,\n",
              " 0.7877649244279323,\n",
              " 0.7516254327450818,\n",
              " 0.7842607447437306,\n",
              " 0.7797433082833742,\n",
              " 0.8132652199611587,\n",
              " 0.8141096006079542,\n",
              " 0.7947310647639958,\n",
              " 0.8333614793548934,\n",
              " 0.8589884319851391,\n",
              " 0.8390188296884238,\n",
              " 0.8562864139153934,\n",
              " 0.8748627881448958,\n",
              " 0.887824031073208,\n",
              " 0.9009541501308793,\n",
              " 0.9279321117959978,\n",
              " 0.9485349995778098,\n",
              " 0.9333361479354896,\n",
              " 0.9174617917757326,\n",
              " 0.925441188887951,\n",
              " 0.9177151059697712,\n",
              " 0.9483239044161109,\n",
              " 0.9406400405302711,\n",
              " 0.9663514312251966,\n",
              " 0.9563033015283293,\n",
              " 0.964915984125644]"
            ]
          },
          "metadata": {
            "tags": []
          },
          "execution_count": 49
        }
      ]
    },
    {
      "cell_type": "code",
      "metadata": {
        "id": "ET0-RqacyD-J",
        "colab_type": "code",
        "colab": {
          "base_uri": "https://localhost:8080/",
          "height": 34
        },
        "outputId": "12190c60-2158-43cd-eff7-15738c559f38"
      },
      "source": [
        "len(temp_input)"
      ],
      "execution_count": 50,
      "outputs": [
        {
          "output_type": "execute_result",
          "data": {
            "text/plain": [
              "75"
            ]
          },
          "metadata": {
            "tags": []
          },
          "execution_count": 50
        }
      ]
    },
    {
      "cell_type": "code",
      "metadata": {
        "id": "A4XLL75DzGJS",
        "colab_type": "code",
        "colab": {
          "base_uri": "https://localhost:8080/",
          "height": 1000
        },
        "outputId": "ff8c9940-1b99-4d4c-e5e5-2935b9f94da1"
      },
      "source": [
        "lst_output=[]\n",
        "n_steps=75\n",
        "i=0\n",
        "while(i<30):\n",
        "    \n",
        "    if(len(temp_input)>75):\n",
        "        #print(temp_input)\n",
        "        x_input=np.array(temp_input[1:])\n",
        "        print(\"{} day input {}\".format(i,x_input))\n",
        "        x_input=x_input.reshape(1,-1)\n",
        "        x_input = x_input.reshape((1, n_steps, 1))\n",
        "        #print(x_input)\n",
        "        yhat = model.predict(x_input, verbose=0)\n",
        "        print(\"{} day output {}\".format(i,yhat))\n",
        "        temp_input.extend(yhat[0].tolist())\n",
        "        temp_input=temp_input[1:]\n",
        "        #print(temp_input)\n",
        "        lst_output.extend(yhat.tolist())\n",
        "        i=i+1\n",
        "    else:\n",
        "        x_input = x_input.reshape((1, n_steps,1))\n",
        "        yhat = model.predict(x_input, verbose=0)\n",
        "        print(yhat[0])\n",
        "        temp_input.extend(yhat[0].tolist())\n",
        "        print(len(temp_input))\n",
        "        lst_output.extend(yhat.tolist())\n",
        "        i=i+1\n",
        "    \n",
        "\n",
        "print(lst_output)"
      ],
      "execution_count": 51,
      "outputs": [
        {
          "output_type": "stream",
          "text": [
            "[0.9499285]\n",
            "76\n",
            "1 day input [0.96972895 0.97614625 0.96795575 1.         0.99016297 0.99050072\n",
            " 0.96538039 0.98488559 0.97086887 0.94026007 0.87748037 0.83483915\n",
            " 0.85413324 0.77336823 0.77269273 0.88014017 0.84007431 0.89673225\n",
            " 0.85527316 0.83884995 0.74233725 0.82327113 0.78143207 0.6665963\n",
            " 0.7921557  0.64118044 0.68614371 0.66001013 0.65203074 0.58642236\n",
            " 0.56586169 0.66089673 0.65515494 0.70970193 0.66452757 0.69437642\n",
            " 0.69218104 0.63569197 0.65266402 0.63780292 0.7267162  0.71388162\n",
            " 0.74191506 0.75002111 0.77222832 0.83049059 0.8194292  0.8289707\n",
            " 0.8125475  0.78776492 0.75162543 0.78426074 0.77974331 0.81326522\n",
            " 0.8141096  0.79473106 0.83336148 0.85898843 0.83901883 0.85628641\n",
            " 0.87486279 0.88782403 0.90095415 0.92793211 0.948535   0.93333615\n",
            " 0.91746179 0.92544119 0.91771511 0.9483239  0.94064004 0.96635143\n",
            " 0.9563033  0.96491598 0.94992852]\n",
            "1 day output [[0.93636906]]\n",
            "2 day input [0.97614625 0.96795575 1.         0.99016297 0.99050072 0.96538039\n",
            " 0.98488559 0.97086887 0.94026007 0.87748037 0.83483915 0.85413324\n",
            " 0.77336823 0.77269273 0.88014017 0.84007431 0.89673225 0.85527316\n",
            " 0.83884995 0.74233725 0.82327113 0.78143207 0.6665963  0.7921557\n",
            " 0.64118044 0.68614371 0.66001013 0.65203074 0.58642236 0.56586169\n",
            " 0.66089673 0.65515494 0.70970193 0.66452757 0.69437642 0.69218104\n",
            " 0.63569197 0.65266402 0.63780292 0.7267162  0.71388162 0.74191506\n",
            " 0.75002111 0.77222832 0.83049059 0.8194292  0.8289707  0.8125475\n",
            " 0.78776492 0.75162543 0.78426074 0.77974331 0.81326522 0.8141096\n",
            " 0.79473106 0.83336148 0.85898843 0.83901883 0.85628641 0.87486279\n",
            " 0.88782403 0.90095415 0.92793211 0.948535   0.93333615 0.91746179\n",
            " 0.92544119 0.91771511 0.9483239  0.94064004 0.96635143 0.9563033\n",
            " 0.96491598 0.94992852 0.93636906]\n",
            "2 day output [[0.92779124]]\n",
            "3 day input [0.96795575 1.         0.99016297 0.99050072 0.96538039 0.98488559\n",
            " 0.97086887 0.94026007 0.87748037 0.83483915 0.85413324 0.77336823\n",
            " 0.77269273 0.88014017 0.84007431 0.89673225 0.85527316 0.83884995\n",
            " 0.74233725 0.82327113 0.78143207 0.6665963  0.7921557  0.64118044\n",
            " 0.68614371 0.66001013 0.65203074 0.58642236 0.56586169 0.66089673\n",
            " 0.65515494 0.70970193 0.66452757 0.69437642 0.69218104 0.63569197\n",
            " 0.65266402 0.63780292 0.7267162  0.71388162 0.74191506 0.75002111\n",
            " 0.77222832 0.83049059 0.8194292  0.8289707  0.8125475  0.78776492\n",
            " 0.75162543 0.78426074 0.77974331 0.81326522 0.8141096  0.79473106\n",
            " 0.83336148 0.85898843 0.83901883 0.85628641 0.87486279 0.88782403\n",
            " 0.90095415 0.92793211 0.948535   0.93333615 0.91746179 0.92544119\n",
            " 0.91771511 0.9483239  0.94064004 0.96635143 0.9563033  0.96491598\n",
            " 0.94992852 0.93636906 0.92779124]\n",
            "3 day output [[0.92263055]]\n",
            "4 day input [1.         0.99016297 0.99050072 0.96538039 0.98488559 0.97086887\n",
            " 0.94026007 0.87748037 0.83483915 0.85413324 0.77336823 0.77269273\n",
            " 0.88014017 0.84007431 0.89673225 0.85527316 0.83884995 0.74233725\n",
            " 0.82327113 0.78143207 0.6665963  0.7921557  0.64118044 0.68614371\n",
            " 0.66001013 0.65203074 0.58642236 0.56586169 0.66089673 0.65515494\n",
            " 0.70970193 0.66452757 0.69437642 0.69218104 0.63569197 0.65266402\n",
            " 0.63780292 0.7267162  0.71388162 0.74191506 0.75002111 0.77222832\n",
            " 0.83049059 0.8194292  0.8289707  0.8125475  0.78776492 0.75162543\n",
            " 0.78426074 0.77974331 0.81326522 0.8141096  0.79473106 0.83336148\n",
            " 0.85898843 0.83901883 0.85628641 0.87486279 0.88782403 0.90095415\n",
            " 0.92793211 0.948535   0.93333615 0.91746179 0.92544119 0.91771511\n",
            " 0.9483239  0.94064004 0.96635143 0.9563033  0.96491598 0.94992852\n",
            " 0.93636906 0.92779124 0.92263055]\n",
            "4 day output [[0.91952044]]\n",
            "5 day input [0.99016297 0.99050072 0.96538039 0.98488559 0.97086887 0.94026007\n",
            " 0.87748037 0.83483915 0.85413324 0.77336823 0.77269273 0.88014017\n",
            " 0.84007431 0.89673225 0.85527316 0.83884995 0.74233725 0.82327113\n",
            " 0.78143207 0.6665963  0.7921557  0.64118044 0.68614371 0.66001013\n",
            " 0.65203074 0.58642236 0.56586169 0.66089673 0.65515494 0.70970193\n",
            " 0.66452757 0.69437642 0.69218104 0.63569197 0.65266402 0.63780292\n",
            " 0.7267162  0.71388162 0.74191506 0.75002111 0.77222832 0.83049059\n",
            " 0.8194292  0.8289707  0.8125475  0.78776492 0.75162543 0.78426074\n",
            " 0.77974331 0.81326522 0.8141096  0.79473106 0.83336148 0.85898843\n",
            " 0.83901883 0.85628641 0.87486279 0.88782403 0.90095415 0.92793211\n",
            " 0.948535   0.93333615 0.91746179 0.92544119 0.91771511 0.9483239\n",
            " 0.94064004 0.96635143 0.9563033  0.96491598 0.94992852 0.93636906\n",
            " 0.92779124 0.92263055 0.91952044]\n",
            "5 day output [[0.9176576]]\n",
            "6 day input [0.99050072 0.96538039 0.98488559 0.97086887 0.94026007 0.87748037\n",
            " 0.83483915 0.85413324 0.77336823 0.77269273 0.88014017 0.84007431\n",
            " 0.89673225 0.85527316 0.83884995 0.74233725 0.82327113 0.78143207\n",
            " 0.6665963  0.7921557  0.64118044 0.68614371 0.66001013 0.65203074\n",
            " 0.58642236 0.56586169 0.66089673 0.65515494 0.70970193 0.66452757\n",
            " 0.69437642 0.69218104 0.63569197 0.65266402 0.63780292 0.7267162\n",
            " 0.71388162 0.74191506 0.75002111 0.77222832 0.83049059 0.8194292\n",
            " 0.8289707  0.8125475  0.78776492 0.75162543 0.78426074 0.77974331\n",
            " 0.81326522 0.8141096  0.79473106 0.83336148 0.85898843 0.83901883\n",
            " 0.85628641 0.87486279 0.88782403 0.90095415 0.92793211 0.948535\n",
            " 0.93333615 0.91746179 0.92544119 0.91771511 0.9483239  0.94064004\n",
            " 0.96635143 0.9563033  0.96491598 0.94992852 0.93636906 0.92779124\n",
            " 0.92263055 0.91952044 0.91765761]\n",
            "6 day output [[0.91656685]]\n",
            "7 day input [0.96538039 0.98488559 0.97086887 0.94026007 0.87748037 0.83483915\n",
            " 0.85413324 0.77336823 0.77269273 0.88014017 0.84007431 0.89673225\n",
            " 0.85527316 0.83884995 0.74233725 0.82327113 0.78143207 0.6665963\n",
            " 0.7921557  0.64118044 0.68614371 0.66001013 0.65203074 0.58642236\n",
            " 0.56586169 0.66089673 0.65515494 0.70970193 0.66452757 0.69437642\n",
            " 0.69218104 0.63569197 0.65266402 0.63780292 0.7267162  0.71388162\n",
            " 0.74191506 0.75002111 0.77222832 0.83049059 0.8194292  0.8289707\n",
            " 0.8125475  0.78776492 0.75162543 0.78426074 0.77974331 0.81326522\n",
            " 0.8141096  0.79473106 0.83336148 0.85898843 0.83901883 0.85628641\n",
            " 0.87486279 0.88782403 0.90095415 0.92793211 0.948535   0.93333615\n",
            " 0.91746179 0.92544119 0.91771511 0.9483239  0.94064004 0.96635143\n",
            " 0.9563033  0.96491598 0.94992852 0.93636906 0.92779124 0.92263055\n",
            " 0.91952044 0.91765761 0.91656685]\n",
            "7 day output [[0.9159168]]\n",
            "8 day input [0.98488559 0.97086887 0.94026007 0.87748037 0.83483915 0.85413324\n",
            " 0.77336823 0.77269273 0.88014017 0.84007431 0.89673225 0.85527316\n",
            " 0.83884995 0.74233725 0.82327113 0.78143207 0.6665963  0.7921557\n",
            " 0.64118044 0.68614371 0.66001013 0.65203074 0.58642236 0.56586169\n",
            " 0.66089673 0.65515494 0.70970193 0.66452757 0.69437642 0.69218104\n",
            " 0.63569197 0.65266402 0.63780292 0.7267162  0.71388162 0.74191506\n",
            " 0.75002111 0.77222832 0.83049059 0.8194292  0.8289707  0.8125475\n",
            " 0.78776492 0.75162543 0.78426074 0.77974331 0.81326522 0.8141096\n",
            " 0.79473106 0.83336148 0.85898843 0.83901883 0.85628641 0.87486279\n",
            " 0.88782403 0.90095415 0.92793211 0.948535   0.93333615 0.91746179\n",
            " 0.92544119 0.91771511 0.9483239  0.94064004 0.96635143 0.9563033\n",
            " 0.96491598 0.94992852 0.93636906 0.92779124 0.92263055 0.91952044\n",
            " 0.91765761 0.91656685 0.9159168 ]\n",
            "8 day output [[0.91545105]]\n",
            "9 day input [0.97086887 0.94026007 0.87748037 0.83483915 0.85413324 0.77336823\n",
            " 0.77269273 0.88014017 0.84007431 0.89673225 0.85527316 0.83884995\n",
            " 0.74233725 0.82327113 0.78143207 0.6665963  0.7921557  0.64118044\n",
            " 0.68614371 0.66001013 0.65203074 0.58642236 0.56586169 0.66089673\n",
            " 0.65515494 0.70970193 0.66452757 0.69437642 0.69218104 0.63569197\n",
            " 0.65266402 0.63780292 0.7267162  0.71388162 0.74191506 0.75002111\n",
            " 0.77222832 0.83049059 0.8194292  0.8289707  0.8125475  0.78776492\n",
            " 0.75162543 0.78426074 0.77974331 0.81326522 0.8141096  0.79473106\n",
            " 0.83336148 0.85898843 0.83901883 0.85628641 0.87486279 0.88782403\n",
            " 0.90095415 0.92793211 0.948535   0.93333615 0.91746179 0.92544119\n",
            " 0.91771511 0.9483239  0.94064004 0.96635143 0.9563033  0.96491598\n",
            " 0.94992852 0.93636906 0.92779124 0.92263055 0.91952044 0.91765761\n",
            " 0.91656685 0.9159168  0.91545105]\n",
            "9 day output [[0.9149672]]\n",
            "10 day input [0.94026007 0.87748037 0.83483915 0.85413324 0.77336823 0.77269273\n",
            " 0.88014017 0.84007431 0.89673225 0.85527316 0.83884995 0.74233725\n",
            " 0.82327113 0.78143207 0.6665963  0.7921557  0.64118044 0.68614371\n",
            " 0.66001013 0.65203074 0.58642236 0.56586169 0.66089673 0.65515494\n",
            " 0.70970193 0.66452757 0.69437642 0.69218104 0.63569197 0.65266402\n",
            " 0.63780292 0.7267162  0.71388162 0.74191506 0.75002111 0.77222832\n",
            " 0.83049059 0.8194292  0.8289707  0.8125475  0.78776492 0.75162543\n",
            " 0.78426074 0.77974331 0.81326522 0.8141096  0.79473106 0.83336148\n",
            " 0.85898843 0.83901883 0.85628641 0.87486279 0.88782403 0.90095415\n",
            " 0.92793211 0.948535   0.93333615 0.91746179 0.92544119 0.91771511\n",
            " 0.9483239  0.94064004 0.96635143 0.9563033  0.96491598 0.94992852\n",
            " 0.93636906 0.92779124 0.92263055 0.91952044 0.91765761 0.91656685\n",
            " 0.9159168  0.91545105 0.91496718]\n",
            "10 day output [[0.91430855]]\n",
            "11 day input [0.87748037 0.83483915 0.85413324 0.77336823 0.77269273 0.88014017\n",
            " 0.84007431 0.89673225 0.85527316 0.83884995 0.74233725 0.82327113\n",
            " 0.78143207 0.6665963  0.7921557  0.64118044 0.68614371 0.66001013\n",
            " 0.65203074 0.58642236 0.56586169 0.66089673 0.65515494 0.70970193\n",
            " 0.66452757 0.69437642 0.69218104 0.63569197 0.65266402 0.63780292\n",
            " 0.7267162  0.71388162 0.74191506 0.75002111 0.77222832 0.83049059\n",
            " 0.8194292  0.8289707  0.8125475  0.78776492 0.75162543 0.78426074\n",
            " 0.77974331 0.81326522 0.8141096  0.79473106 0.83336148 0.85898843\n",
            " 0.83901883 0.85628641 0.87486279 0.88782403 0.90095415 0.92793211\n",
            " 0.948535   0.93333615 0.91746179 0.92544119 0.91771511 0.9483239\n",
            " 0.94064004 0.96635143 0.9563033  0.96491598 0.94992852 0.93636906\n",
            " 0.92779124 0.92263055 0.91952044 0.91765761 0.91656685 0.9159168\n",
            " 0.91545105 0.91496718 0.91430855]\n",
            "11 day output [[0.9133634]]\n",
            "12 day input [0.83483915 0.85413324 0.77336823 0.77269273 0.88014017 0.84007431\n",
            " 0.89673225 0.85527316 0.83884995 0.74233725 0.82327113 0.78143207\n",
            " 0.6665963  0.7921557  0.64118044 0.68614371 0.66001013 0.65203074\n",
            " 0.58642236 0.56586169 0.66089673 0.65515494 0.70970193 0.66452757\n",
            " 0.69437642 0.69218104 0.63569197 0.65266402 0.63780292 0.7267162\n",
            " 0.71388162 0.74191506 0.75002111 0.77222832 0.83049059 0.8194292\n",
            " 0.8289707  0.8125475  0.78776492 0.75162543 0.78426074 0.77974331\n",
            " 0.81326522 0.8141096  0.79473106 0.83336148 0.85898843 0.83901883\n",
            " 0.85628641 0.87486279 0.88782403 0.90095415 0.92793211 0.948535\n",
            " 0.93333615 0.91746179 0.92544119 0.91771511 0.9483239  0.94064004\n",
            " 0.96635143 0.9563033  0.96491598 0.94992852 0.93636906 0.92779124\n",
            " 0.92263055 0.91952044 0.91765761 0.91656685 0.9159168  0.91545105\n",
            " 0.91496718 0.91430855 0.9133634 ]\n",
            "12 day output [[0.91206384]]\n",
            "13 day input [0.85413324 0.77336823 0.77269273 0.88014017 0.84007431 0.89673225\n",
            " 0.85527316 0.83884995 0.74233725 0.82327113 0.78143207 0.6665963\n",
            " 0.7921557  0.64118044 0.68614371 0.66001013 0.65203074 0.58642236\n",
            " 0.56586169 0.66089673 0.65515494 0.70970193 0.66452757 0.69437642\n",
            " 0.69218104 0.63569197 0.65266402 0.63780292 0.7267162  0.71388162\n",
            " 0.74191506 0.75002111 0.77222832 0.83049059 0.8194292  0.8289707\n",
            " 0.8125475  0.78776492 0.75162543 0.78426074 0.77974331 0.81326522\n",
            " 0.8141096  0.79473106 0.83336148 0.85898843 0.83901883 0.85628641\n",
            " 0.87486279 0.88782403 0.90095415 0.92793211 0.948535   0.93333615\n",
            " 0.91746179 0.92544119 0.91771511 0.9483239  0.94064004 0.96635143\n",
            " 0.9563033  0.96491598 0.94992852 0.93636906 0.92779124 0.92263055\n",
            " 0.91952044 0.91765761 0.91656685 0.9159168  0.91545105 0.91496718\n",
            " 0.91430855 0.9133634  0.91206384]\n",
            "13 day output [[0.9103814]]\n",
            "14 day input [0.77336823 0.77269273 0.88014017 0.84007431 0.89673225 0.85527316\n",
            " 0.83884995 0.74233725 0.82327113 0.78143207 0.6665963  0.7921557\n",
            " 0.64118044 0.68614371 0.66001013 0.65203074 0.58642236 0.56586169\n",
            " 0.66089673 0.65515494 0.70970193 0.66452757 0.69437642 0.69218104\n",
            " 0.63569197 0.65266402 0.63780292 0.7267162  0.71388162 0.74191506\n",
            " 0.75002111 0.77222832 0.83049059 0.8194292  0.8289707  0.8125475\n",
            " 0.78776492 0.75162543 0.78426074 0.77974331 0.81326522 0.8141096\n",
            " 0.79473106 0.83336148 0.85898843 0.83901883 0.85628641 0.87486279\n",
            " 0.88782403 0.90095415 0.92793211 0.948535   0.93333615 0.91746179\n",
            " 0.92544119 0.91771511 0.9483239  0.94064004 0.96635143 0.9563033\n",
            " 0.96491598 0.94992852 0.93636906 0.92779124 0.92263055 0.91952044\n",
            " 0.91765761 0.91656685 0.9159168  0.91545105 0.91496718 0.91430855\n",
            " 0.9133634  0.91206384 0.91038138]\n",
            "14 day output [[0.90832144]]\n",
            "15 day input [0.77269273 0.88014017 0.84007431 0.89673225 0.85527316 0.83884995\n",
            " 0.74233725 0.82327113 0.78143207 0.6665963  0.7921557  0.64118044\n",
            " 0.68614371 0.66001013 0.65203074 0.58642236 0.56586169 0.66089673\n",
            " 0.65515494 0.70970193 0.66452757 0.69437642 0.69218104 0.63569197\n",
            " 0.65266402 0.63780292 0.7267162  0.71388162 0.74191506 0.75002111\n",
            " 0.77222832 0.83049059 0.8194292  0.8289707  0.8125475  0.78776492\n",
            " 0.75162543 0.78426074 0.77974331 0.81326522 0.8141096  0.79473106\n",
            " 0.83336148 0.85898843 0.83901883 0.85628641 0.87486279 0.88782403\n",
            " 0.90095415 0.92793211 0.948535   0.93333615 0.91746179 0.92544119\n",
            " 0.91771511 0.9483239  0.94064004 0.96635143 0.9563033  0.96491598\n",
            " 0.94992852 0.93636906 0.92779124 0.92263055 0.91952044 0.91765761\n",
            " 0.91656685 0.9159168  0.91545105 0.91496718 0.91430855 0.9133634\n",
            " 0.91206384 0.91038138 0.90832144]\n",
            "15 day output [[0.90591276]]\n",
            "16 day input [0.88014017 0.84007431 0.89673225 0.85527316 0.83884995 0.74233725\n",
            " 0.82327113 0.78143207 0.6665963  0.7921557  0.64118044 0.68614371\n",
            " 0.66001013 0.65203074 0.58642236 0.56586169 0.66089673 0.65515494\n",
            " 0.70970193 0.66452757 0.69437642 0.69218104 0.63569197 0.65266402\n",
            " 0.63780292 0.7267162  0.71388162 0.74191506 0.75002111 0.77222832\n",
            " 0.83049059 0.8194292  0.8289707  0.8125475  0.78776492 0.75162543\n",
            " 0.78426074 0.77974331 0.81326522 0.8141096  0.79473106 0.83336148\n",
            " 0.85898843 0.83901883 0.85628641 0.87486279 0.88782403 0.90095415\n",
            " 0.92793211 0.948535   0.93333615 0.91746179 0.92544119 0.91771511\n",
            " 0.9483239  0.94064004 0.96635143 0.9563033  0.96491598 0.94992852\n",
            " 0.93636906 0.92779124 0.92263055 0.91952044 0.91765761 0.91656685\n",
            " 0.9159168  0.91545105 0.91496718 0.91430855 0.9133634  0.91206384\n",
            " 0.91038138 0.90832144 0.90591276]\n",
            "16 day output [[0.903202]]\n",
            "17 day input [0.84007431 0.89673225 0.85527316 0.83884995 0.74233725 0.82327113\n",
            " 0.78143207 0.6665963  0.7921557  0.64118044 0.68614371 0.66001013\n",
            " 0.65203074 0.58642236 0.56586169 0.66089673 0.65515494 0.70970193\n",
            " 0.66452757 0.69437642 0.69218104 0.63569197 0.65266402 0.63780292\n",
            " 0.7267162  0.71388162 0.74191506 0.75002111 0.77222832 0.83049059\n",
            " 0.8194292  0.8289707  0.8125475  0.78776492 0.75162543 0.78426074\n",
            " 0.77974331 0.81326522 0.8141096  0.79473106 0.83336148 0.85898843\n",
            " 0.83901883 0.85628641 0.87486279 0.88782403 0.90095415 0.92793211\n",
            " 0.948535   0.93333615 0.91746179 0.92544119 0.91771511 0.9483239\n",
            " 0.94064004 0.96635143 0.9563033  0.96491598 0.94992852 0.93636906\n",
            " 0.92779124 0.92263055 0.91952044 0.91765761 0.91656685 0.9159168\n",
            " 0.91545105 0.91496718 0.91430855 0.9133634  0.91206384 0.91038138\n",
            " 0.90832144 0.90591276 0.903202  ]\n",
            "17 day output [[0.9002452]]\n",
            "18 day input [0.89673225 0.85527316 0.83884995 0.74233725 0.82327113 0.78143207\n",
            " 0.6665963  0.7921557  0.64118044 0.68614371 0.66001013 0.65203074\n",
            " 0.58642236 0.56586169 0.66089673 0.65515494 0.70970193 0.66452757\n",
            " 0.69437642 0.69218104 0.63569197 0.65266402 0.63780292 0.7267162\n",
            " 0.71388162 0.74191506 0.75002111 0.77222832 0.83049059 0.8194292\n",
            " 0.8289707  0.8125475  0.78776492 0.75162543 0.78426074 0.77974331\n",
            " 0.81326522 0.8141096  0.79473106 0.83336148 0.85898843 0.83901883\n",
            " 0.85628641 0.87486279 0.88782403 0.90095415 0.92793211 0.948535\n",
            " 0.93333615 0.91746179 0.92544119 0.91771511 0.9483239  0.94064004\n",
            " 0.96635143 0.9563033  0.96491598 0.94992852 0.93636906 0.92779124\n",
            " 0.92263055 0.91952044 0.91765761 0.91656685 0.9159168  0.91545105\n",
            " 0.91496718 0.91430855 0.9133634  0.91206384 0.91038138 0.90832144\n",
            " 0.90591276 0.903202   0.90024519]\n",
            "18 day output [[0.89709604]]\n",
            "19 day input [0.85527316 0.83884995 0.74233725 0.82327113 0.78143207 0.6665963\n",
            " 0.7921557  0.64118044 0.68614371 0.66001013 0.65203074 0.58642236\n",
            " 0.56586169 0.66089673 0.65515494 0.70970193 0.66452757 0.69437642\n",
            " 0.69218104 0.63569197 0.65266402 0.63780292 0.7267162  0.71388162\n",
            " 0.74191506 0.75002111 0.77222832 0.83049059 0.8194292  0.8289707\n",
            " 0.8125475  0.78776492 0.75162543 0.78426074 0.77974331 0.81326522\n",
            " 0.8141096  0.79473106 0.83336148 0.85898843 0.83901883 0.85628641\n",
            " 0.87486279 0.88782403 0.90095415 0.92793211 0.948535   0.93333615\n",
            " 0.91746179 0.92544119 0.91771511 0.9483239  0.94064004 0.96635143\n",
            " 0.9563033  0.96491598 0.94992852 0.93636906 0.92779124 0.92263055\n",
            " 0.91952044 0.91765761 0.91656685 0.9159168  0.91545105 0.91496718\n",
            " 0.91430855 0.9133634  0.91206384 0.91038138 0.90832144 0.90591276\n",
            " 0.903202   0.90024519 0.89709604]\n",
            "19 day output [[0.89380646]]\n",
            "20 day input [0.83884995 0.74233725 0.82327113 0.78143207 0.6665963  0.7921557\n",
            " 0.64118044 0.68614371 0.66001013 0.65203074 0.58642236 0.56586169\n",
            " 0.66089673 0.65515494 0.70970193 0.66452757 0.69437642 0.69218104\n",
            " 0.63569197 0.65266402 0.63780292 0.7267162  0.71388162 0.74191506\n",
            " 0.75002111 0.77222832 0.83049059 0.8194292  0.8289707  0.8125475\n",
            " 0.78776492 0.75162543 0.78426074 0.77974331 0.81326522 0.8141096\n",
            " 0.79473106 0.83336148 0.85898843 0.83901883 0.85628641 0.87486279\n",
            " 0.88782403 0.90095415 0.92793211 0.948535   0.93333615 0.91746179\n",
            " 0.92544119 0.91771511 0.9483239  0.94064004 0.96635143 0.9563033\n",
            " 0.96491598 0.94992852 0.93636906 0.92779124 0.92263055 0.91952044\n",
            " 0.91765761 0.91656685 0.9159168  0.91545105 0.91496718 0.91430855\n",
            " 0.9133634  0.91206384 0.91038138 0.90832144 0.90591276 0.903202\n",
            " 0.90024519 0.89709604 0.89380646]\n",
            "20 day output [[0.89041847]]\n",
            "21 day input [0.74233725 0.82327113 0.78143207 0.6665963  0.7921557  0.64118044\n",
            " 0.68614371 0.66001013 0.65203074 0.58642236 0.56586169 0.66089673\n",
            " 0.65515494 0.70970193 0.66452757 0.69437642 0.69218104 0.63569197\n",
            " 0.65266402 0.63780292 0.7267162  0.71388162 0.74191506 0.75002111\n",
            " 0.77222832 0.83049059 0.8194292  0.8289707  0.8125475  0.78776492\n",
            " 0.75162543 0.78426074 0.77974331 0.81326522 0.8141096  0.79473106\n",
            " 0.83336148 0.85898843 0.83901883 0.85628641 0.87486279 0.88782403\n",
            " 0.90095415 0.92793211 0.948535   0.93333615 0.91746179 0.92544119\n",
            " 0.91771511 0.9483239  0.94064004 0.96635143 0.9563033  0.96491598\n",
            " 0.94992852 0.93636906 0.92779124 0.92263055 0.91952044 0.91765761\n",
            " 0.91656685 0.9159168  0.91545105 0.91496718 0.91430855 0.9133634\n",
            " 0.91206384 0.91038138 0.90832144 0.90591276 0.903202   0.90024519\n",
            " 0.89709604 0.89380646 0.89041847]\n",
            "21 day output [[0.8869667]]\n",
            "22 day input [0.82327113 0.78143207 0.6665963  0.7921557  0.64118044 0.68614371\n",
            " 0.66001013 0.65203074 0.58642236 0.56586169 0.66089673 0.65515494\n",
            " 0.70970193 0.66452757 0.69437642 0.69218104 0.63569197 0.65266402\n",
            " 0.63780292 0.7267162  0.71388162 0.74191506 0.75002111 0.77222832\n",
            " 0.83049059 0.8194292  0.8289707  0.8125475  0.78776492 0.75162543\n",
            " 0.78426074 0.77974331 0.81326522 0.8141096  0.79473106 0.83336148\n",
            " 0.85898843 0.83901883 0.85628641 0.87486279 0.88782403 0.90095415\n",
            " 0.92793211 0.948535   0.93333615 0.91746179 0.92544119 0.91771511\n",
            " 0.9483239  0.94064004 0.96635143 0.9563033  0.96491598 0.94992852\n",
            " 0.93636906 0.92779124 0.92263055 0.91952044 0.91765761 0.91656685\n",
            " 0.9159168  0.91545105 0.91496718 0.91430855 0.9133634  0.91206384\n",
            " 0.91038138 0.90832144 0.90591276 0.903202   0.90024519 0.89709604\n",
            " 0.89380646 0.89041847 0.88696671]\n",
            "22 day output [[0.88347554]]\n",
            "23 day input [0.78143207 0.6665963  0.7921557  0.64118044 0.68614371 0.66001013\n",
            " 0.65203074 0.58642236 0.56586169 0.66089673 0.65515494 0.70970193\n",
            " 0.66452757 0.69437642 0.69218104 0.63569197 0.65266402 0.63780292\n",
            " 0.7267162  0.71388162 0.74191506 0.75002111 0.77222832 0.83049059\n",
            " 0.8194292  0.8289707  0.8125475  0.78776492 0.75162543 0.78426074\n",
            " 0.77974331 0.81326522 0.8141096  0.79473106 0.83336148 0.85898843\n",
            " 0.83901883 0.85628641 0.87486279 0.88782403 0.90095415 0.92793211\n",
            " 0.948535   0.93333615 0.91746179 0.92544119 0.91771511 0.9483239\n",
            " 0.94064004 0.96635143 0.9563033  0.96491598 0.94992852 0.93636906\n",
            " 0.92779124 0.92263055 0.91952044 0.91765761 0.91656685 0.9159168\n",
            " 0.91545105 0.91496718 0.91430855 0.9133634  0.91206384 0.91038138\n",
            " 0.90832144 0.90591276 0.903202   0.90024519 0.89709604 0.89380646\n",
            " 0.89041847 0.88696671 0.88347554]\n",
            "23 day output [[0.8799616]]\n",
            "24 day input [0.6665963  0.7921557  0.64118044 0.68614371 0.66001013 0.65203074\n",
            " 0.58642236 0.56586169 0.66089673 0.65515494 0.70970193 0.66452757\n",
            " 0.69437642 0.69218104 0.63569197 0.65266402 0.63780292 0.7267162\n",
            " 0.71388162 0.74191506 0.75002111 0.77222832 0.83049059 0.8194292\n",
            " 0.8289707  0.8125475  0.78776492 0.75162543 0.78426074 0.77974331\n",
            " 0.81326522 0.8141096  0.79473106 0.83336148 0.85898843 0.83901883\n",
            " 0.85628641 0.87486279 0.88782403 0.90095415 0.92793211 0.948535\n",
            " 0.93333615 0.91746179 0.92544119 0.91771511 0.9483239  0.94064004\n",
            " 0.96635143 0.9563033  0.96491598 0.94992852 0.93636906 0.92779124\n",
            " 0.92263055 0.91952044 0.91765761 0.91656685 0.9159168  0.91545105\n",
            " 0.91496718 0.91430855 0.9133634  0.91206384 0.91038138 0.90832144\n",
            " 0.90591276 0.903202   0.90024519 0.89709604 0.89380646 0.89041847\n",
            " 0.88696671 0.88347554 0.87996161]\n",
            "24 day output [[0.8764325]]\n",
            "25 day input [0.7921557  0.64118044 0.68614371 0.66001013 0.65203074 0.58642236\n",
            " 0.56586169 0.66089673 0.65515494 0.70970193 0.66452757 0.69437642\n",
            " 0.69218104 0.63569197 0.65266402 0.63780292 0.7267162  0.71388162\n",
            " 0.74191506 0.75002111 0.77222832 0.83049059 0.8194292  0.8289707\n",
            " 0.8125475  0.78776492 0.75162543 0.78426074 0.77974331 0.81326522\n",
            " 0.8141096  0.79473106 0.83336148 0.85898843 0.83901883 0.85628641\n",
            " 0.87486279 0.88782403 0.90095415 0.92793211 0.948535   0.93333615\n",
            " 0.91746179 0.92544119 0.91771511 0.9483239  0.94064004 0.96635143\n",
            " 0.9563033  0.96491598 0.94992852 0.93636906 0.92779124 0.92263055\n",
            " 0.91952044 0.91765761 0.91656685 0.9159168  0.91545105 0.91496718\n",
            " 0.91430855 0.9133634  0.91206384 0.91038138 0.90832144 0.90591276\n",
            " 0.903202   0.90024519 0.89709604 0.89380646 0.89041847 0.88696671\n",
            " 0.88347554 0.87996161 0.87643248]\n",
            "25 day output [[0.8728883]]\n",
            "26 day input [0.64118044 0.68614371 0.66001013 0.65203074 0.58642236 0.56586169\n",
            " 0.66089673 0.65515494 0.70970193 0.66452757 0.69437642 0.69218104\n",
            " 0.63569197 0.65266402 0.63780292 0.7267162  0.71388162 0.74191506\n",
            " 0.75002111 0.77222832 0.83049059 0.8194292  0.8289707  0.8125475\n",
            " 0.78776492 0.75162543 0.78426074 0.77974331 0.81326522 0.8141096\n",
            " 0.79473106 0.83336148 0.85898843 0.83901883 0.85628641 0.87486279\n",
            " 0.88782403 0.90095415 0.92793211 0.948535   0.93333615 0.91746179\n",
            " 0.92544119 0.91771511 0.9483239  0.94064004 0.96635143 0.9563033\n",
            " 0.96491598 0.94992852 0.93636906 0.92779124 0.92263055 0.91952044\n",
            " 0.91765761 0.91656685 0.9159168  0.91545105 0.91496718 0.91430855\n",
            " 0.9133634  0.91206384 0.91038138 0.90832144 0.90591276 0.903202\n",
            " 0.90024519 0.89709604 0.89380646 0.89041847 0.88696671 0.88347554\n",
            " 0.87996161 0.87643248 0.87288833]\n",
            "26 day output [[0.8693264]]\n",
            "27 day input [0.68614371 0.66001013 0.65203074 0.58642236 0.56586169 0.66089673\n",
            " 0.65515494 0.70970193 0.66452757 0.69437642 0.69218104 0.63569197\n",
            " 0.65266402 0.63780292 0.7267162  0.71388162 0.74191506 0.75002111\n",
            " 0.77222832 0.83049059 0.8194292  0.8289707  0.8125475  0.78776492\n",
            " 0.75162543 0.78426074 0.77974331 0.81326522 0.8141096  0.79473106\n",
            " 0.83336148 0.85898843 0.83901883 0.85628641 0.87486279 0.88782403\n",
            " 0.90095415 0.92793211 0.948535   0.93333615 0.91746179 0.92544119\n",
            " 0.91771511 0.9483239  0.94064004 0.96635143 0.9563033  0.96491598\n",
            " 0.94992852 0.93636906 0.92779124 0.92263055 0.91952044 0.91765761\n",
            " 0.91656685 0.9159168  0.91545105 0.91496718 0.91430855 0.9133634\n",
            " 0.91206384 0.91038138 0.90832144 0.90591276 0.903202   0.90024519\n",
            " 0.89709604 0.89380646 0.89041847 0.88696671 0.88347554 0.87996161\n",
            " 0.87643248 0.87288833 0.86932641]\n",
            "27 day output [[0.86573887]]\n",
            "28 day input [0.66001013 0.65203074 0.58642236 0.56586169 0.66089673 0.65515494\n",
            " 0.70970193 0.66452757 0.69437642 0.69218104 0.63569197 0.65266402\n",
            " 0.63780292 0.7267162  0.71388162 0.74191506 0.75002111 0.77222832\n",
            " 0.83049059 0.8194292  0.8289707  0.8125475  0.78776492 0.75162543\n",
            " 0.78426074 0.77974331 0.81326522 0.8141096  0.79473106 0.83336148\n",
            " 0.85898843 0.83901883 0.85628641 0.87486279 0.88782403 0.90095415\n",
            " 0.92793211 0.948535   0.93333615 0.91746179 0.92544119 0.91771511\n",
            " 0.9483239  0.94064004 0.96635143 0.9563033  0.96491598 0.94992852\n",
            " 0.93636906 0.92779124 0.92263055 0.91952044 0.91765761 0.91656685\n",
            " 0.9159168  0.91545105 0.91496718 0.91430855 0.9133634  0.91206384\n",
            " 0.91038138 0.90832144 0.90591276 0.903202   0.90024519 0.89709604\n",
            " 0.89380646 0.89041847 0.88696671 0.88347554 0.87996161 0.87643248\n",
            " 0.87288833 0.86932641 0.86573887]\n",
            "28 day output [[0.8621175]]\n",
            "29 day input [0.65203074 0.58642236 0.56586169 0.66089673 0.65515494 0.70970193\n",
            " 0.66452757 0.69437642 0.69218104 0.63569197 0.65266402 0.63780292\n",
            " 0.7267162  0.71388162 0.74191506 0.75002111 0.77222832 0.83049059\n",
            " 0.8194292  0.8289707  0.8125475  0.78776492 0.75162543 0.78426074\n",
            " 0.77974331 0.81326522 0.8141096  0.79473106 0.83336148 0.85898843\n",
            " 0.83901883 0.85628641 0.87486279 0.88782403 0.90095415 0.92793211\n",
            " 0.948535   0.93333615 0.91746179 0.92544119 0.91771511 0.9483239\n",
            " 0.94064004 0.96635143 0.9563033  0.96491598 0.94992852 0.93636906\n",
            " 0.92779124 0.92263055 0.91952044 0.91765761 0.91656685 0.9159168\n",
            " 0.91545105 0.91496718 0.91430855 0.9133634  0.91206384 0.91038138\n",
            " 0.90832144 0.90591276 0.903202   0.90024519 0.89709604 0.89380646\n",
            " 0.89041847 0.88696671 0.88347554 0.87996161 0.87643248 0.87288833\n",
            " 0.86932641 0.86573887 0.86211753]\n",
            "29 day output [[0.85845345]]\n",
            "[[0.9499285221099854], [0.9363690614700317], [0.9277912378311157], [0.9226305484771729], [0.9195204377174377], [0.9176576137542725], [0.9165668487548828], [0.9159168004989624], [0.9154510498046875], [0.9149671792984009], [0.9143085479736328], [0.9133633971214294], [0.9120638370513916], [0.9103813767433167], [0.9083214402198792], [0.9059127569198608], [0.9032019972801208], [0.900245189666748], [0.8970960378646851], [0.8938064575195312], [0.8904184699058533], [0.8869667053222656], [0.8834755420684814], [0.8799616098403931], [0.876432478427887], [0.8728883266448975], [0.8693264126777649], [0.8657388687133789], [0.8621175289154053], [0.8584534525871277]]\n"
          ],
          "name": "stdout"
        }
      ]
    },
    {
      "cell_type": "code",
      "metadata": {
        "id": "u7zB7Wflw2RD",
        "colab_type": "code",
        "colab": {}
      },
      "source": [
        "day_new=np.arange(1,76)\n",
        "day_pred=np.arange(76,106)\n"
      ],
      "execution_count": 58,
      "outputs": []
    },
    {
      "cell_type": "code",
      "metadata": {
        "id": "YH1CzaqfyRnL",
        "colab_type": "code",
        "colab": {
          "base_uri": "https://localhost:8080/",
          "height": 34
        },
        "outputId": "1781c04f-a016-4cb3-dd23-6daa2da9ff94"
      },
      "source": [
        "len(day_new)"
      ],
      "execution_count": 57,
      "outputs": [
        {
          "output_type": "execute_result",
          "data": {
            "text/plain": [
              "74"
            ]
          },
          "metadata": {
            "tags": []
          },
          "execution_count": 57
        }
      ]
    },
    {
      "cell_type": "code",
      "metadata": {
        "id": "s3UewQVqymdH",
        "colab_type": "code",
        "colab": {
          "base_uri": "https://localhost:8080/",
          "height": 285
        },
        "outputId": "3d5861fb-14d2-4794-e2ee-f559d29b1404"
      },
      "source": [
        "plt.plot(day_new,minmaxscaler.inverse_transform(newdataframe[1183:]))\n",
        "plt.plot(day_pred,minmaxscaler.inverse_transform(lst_output))"
      ],
      "execution_count": 59,
      "outputs": [
        {
          "output_type": "execute_result",
          "data": {
            "text/plain": [
              "[<matplotlib.lines.Line2D at 0x7f00a95936a0>]"
            ]
          },
          "metadata": {
            "tags": []
          },
          "execution_count": 59
        },
        {
          "output_type": "display_data",
          "data": {
            "image/png": "[encoded data removed]",
            "text/plain": [
              "<Figure size 432x288 with 1 Axes>"
            ]
          },
          "metadata": {
            "tags": [],
            "needs_background": "light"
          }
        }
      ]
    }
  ]
}
